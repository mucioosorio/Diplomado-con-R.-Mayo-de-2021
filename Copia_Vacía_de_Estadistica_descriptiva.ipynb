{
  "nbformat": 4,
  "nbformat_minor": 0,
  "metadata": {
    "colab": {
      "name": "Copia Vacía de Estadistica_descriptiva.ipynb",
      "provenance": [],
      "authorship_tag": "ABX9TyOuvzq3ztb8UKa08ALrjUuf",
      "include_colab_link": true
    },
    "kernelspec": {
      "name": "ir",
      "display_name": "R"
    },
    "language_info": {
      "name": "R"
    }
  },
  "cells": [
    {
      "cell_type": "markdown",
      "metadata": {
        "id": "view-in-github",
        "colab_type": "text"
      },
      "source": [
        "<a href=\"https://colab.research.google.com/github/mucioosorio/Diplomado-con-R.-Mayo-de-2021/blob/main/Copia_Vac%C3%ADa_de_Estadistica_descriptiva.ipynb\" target=\"_parent\"><img src=\"https://colab.research.google.com/assets/colab-badge.svg\" alt=\"Open In Colab\"/></a>"
      ]
    },
    {
      "cell_type": "code",
      "metadata": {
        "id": "WSGxuLGWTglq"
      },
      "source": [
        ""
      ],
      "execution_count": null,
      "outputs": []
    },
    {
      "cell_type": "markdown",
      "metadata": {
        "id": "EN98wW_o83wj"
      },
      "source": [
        "![inferencia](https://sites.google.com/site/zebrein/_/rsrc/1428715075612/data-science/statistical-inference-for-data-science/inferential_statistics.png)"
      ]
    },
    {
      "cell_type": "markdown",
      "metadata": {
        "id": "rHqrwOSSBU3L"
      },
      "source": [
        "# ESTADISTICA DESCRIPTIVA.\n",
        "\n",
        "Las herramientas de la Estadística descriptiva se encargan de organizar, presentar y describir un conjunto de datos para tomar decisiones. Principalmente son tablas, gráficas y ciertas cantidades numéricas.\n",
        "\n",
        "Recordar en lo sucesivo que habrá ocasiones en las que los datos a describir forman parte de una muestra y que en otras ocasiones pueden ser la población de interés y que por lo tanto el nombre y la forma en que se definen las cantidades numéricas varía.\n",
        "\n",
        "|Parámetro|Estimador||\n",
        "|--- |--- |---|\n",
        "|$\\mu$|$\\overline{x}$|Promedio|\n",
        "|$P$|$\\hat{p}$|Proporción|\n",
        "|$\\sigma^2$ | $s^2$|Varianza|\n",
        "|$P_j$|$p_j$|Percentil|\n",
        "|$\\tau$|$t$|Total|\n",
        "\n",
        "##LAS SEIS CARACTERÍSTICAS DE LOS DATOS\n",
        "\n",
        "En estas notas se estudian las herramientas estadísticas esenciales en el análisis descriptivo de los datos, considerando las seis siguientes caractarísticas, y que además permitirán una buena selección de las herramientas de la inferencia estadística. \n",
        "\n",
        "1. Localización o ubicación\n",
        "2. Dispersión, variabilidad o heterogeneidad\n",
        "3. Distribución de frecuencias o forma de la distribución\n",
        "4. Valores extremos o atípicos (outliers) \n",
        "5. Agrupamientos (clustering)\n",
        "6. Correlación"
      ]
    },
    {
      "cell_type": "markdown",
      "metadata": {
        "id": "pXBu12kxCGic"
      },
      "source": [
        "## El conjunto de datos de The Old Faithful \n",
        "\n",
        "<center>\n",
        "\n",
        "![The Old Faithful](https://media-cdn.tripadvisor.com/media/photo-s/0b/e2/e0/8b/old-faithful-yellowstone.jpg)\n",
        "\n",
        "</center>\n",
        "\n",
        "El conjunto de datos del geyser “Old Faithful” consta de 272 medidas de la duración de la exhalación (min) del geyser y del tiempo entre exhalaciones (min). Tiene características interesantes que servirán para ejemplificar las herramientas de la Estadística Descriptiva.\n",
        "\n",
        "\n",
        "\n",
        "\n",
        "\n"
      ]
    },
    {
      "cell_type": "code",
      "metadata": {
        "id": "mie8XwlPODON",
        "colab": {
          "base_uri": "https://localhost:8080/",
          "height": 300
        },
        "outputId": "4e984432-5958-40da-de01-0cf4bb53f7b7"
      },
      "source": [
        "# El conjunto de datos forma parte de el sistema base de R\n",
        "# Solicite la ayuda sobre faithful\n",
        "#help(faithful)\n",
        "# Ver los primeros 6 elementos\n",
        "head(faithful)\n",
        "# la dimensión del dataframe\n",
        "dim(faithful)"
      ],
      "execution_count": null,
      "outputs": [
        {
          "output_type": "display_data",
          "data": {
            "text/plain": [
              "  eruptions waiting\n",
              "1 3.600     79     \n",
              "2 1.800     54     \n",
              "3 3.333     74     \n",
              "4 2.283     62     \n",
              "5 4.533     85     \n",
              "6 2.883     55     "
            ],
            "text/latex": "A data.frame: 6 × 2\n\\begin{tabular}{r|ll}\n  & eruptions & waiting\\\\\n  & <dbl> & <dbl>\\\\\n\\hline\n\t1 & 3.600 & 79\\\\\n\t2 & 1.800 & 54\\\\\n\t3 & 3.333 & 74\\\\\n\t4 & 2.283 & 62\\\\\n\t5 & 4.533 & 85\\\\\n\t6 & 2.883 & 55\\\\\n\\end{tabular}\n",
            "text/markdown": "\nA data.frame: 6 × 2\n\n| <!--/--> | eruptions &lt;dbl&gt; | waiting &lt;dbl&gt; |\n|---|---|---|\n| 1 | 3.600 | 79 |\n| 2 | 1.800 | 54 |\n| 3 | 3.333 | 74 |\n| 4 | 2.283 | 62 |\n| 5 | 4.533 | 85 |\n| 6 | 2.883 | 55 |\n\n",
            "text/html": [
              "<table class=\"dataframe\">\n",
              "<caption>A data.frame: 6 × 2</caption>\n",
              "<thead>\n",
              "\t<tr><th></th><th scope=col>eruptions</th><th scope=col>waiting</th></tr>\n",
              "\t<tr><th></th><th scope=col>&lt;dbl&gt;</th><th scope=col>&lt;dbl&gt;</th></tr>\n",
              "</thead>\n",
              "<tbody>\n",
              "\t<tr><th scope=row>1</th><td>3.600</td><td>79</td></tr>\n",
              "\t<tr><th scope=row>2</th><td>1.800</td><td>54</td></tr>\n",
              "\t<tr><th scope=row>3</th><td>3.333</td><td>74</td></tr>\n",
              "\t<tr><th scope=row>4</th><td>2.283</td><td>62</td></tr>\n",
              "\t<tr><th scope=row>5</th><td>4.533</td><td>85</td></tr>\n",
              "\t<tr><th scope=row>6</th><td>2.883</td><td>55</td></tr>\n",
              "</tbody>\n",
              "</table>\n"
            ]
          },
          "metadata": {
            "tags": []
          }
        },
        {
          "output_type": "display_data",
          "data": {
            "text/plain": [
              "[1] 272   2"
            ],
            "text/latex": "\\begin{enumerate*}\n\\item 272\n\\item 2\n\\end{enumerate*}\n",
            "text/markdown": "1. 272\n2. 2\n\n\n",
            "text/html": [
              "<style>\n",
              ".list-inline {list-style: none; margin:0; padding: 0}\n",
              ".list-inline>li {display: inline-block}\n",
              ".list-inline>li:not(:last-child)::after {content: \"\\00b7\"; padding: 0 .5ex}\n",
              "</style>\n",
              "<ol class=list-inline><li>272</li><li>2</li></ol>\n"
            ]
          },
          "metadata": {
            "tags": []
          }
        }
      ]
    },
    {
      "cell_type": "markdown",
      "metadata": {
        "id": "hpkupERhFWWi"
      },
      "source": [
        "## 1. Localización de los datos.\n",
        "\n",
        "Con éstas medidas se pretende tener una idea de la ubicación de los datos en algún lugar de los números reales. Es importante dar la posición del dato más pequeño, del dato más grande, de lo que en Estadística se conoce como la tendencia central de los datos y los cuantiles (que dan otras ubicaciones incluidas las centrales).\n",
        "\n",
        "***\n",
        ">  **¿Cuánto tiempo tarda una exhalación del geyser? ¿Cuánto  tiempo se debe esperar hasta que aparezca una exhalación?**\n",
        "***\n"
      ]
    },
    {
      "cell_type": "markdown",
      "metadata": {
        "id": "8RwkRZA8LeEQ"
      },
      "source": [
        "### 1.1 El mínimo y el máximo\n",
        "\n",
        "En estadística a la más pequeña observación se le denomina mínimo o primer estadístico de orden y a la más grande se le llama máximo o último estadístico de orden. \n",
        "\n",
        "> El estadístico de orden kº es igual al k-ésimo valor más pequeño de una muestra estadística.\n",
        "$$ X_{(1)}, X_{(2)}, X_{(3)},...,X_{(n)} $$"
      ]
    },
    {
      "cell_type": "code",
      "metadata": {
        "id": "Ze7WVEL7N7ea",
        "colab": {
          "base_uri": "https://localhost:8080/",
          "height": 120
        },
        "outputId": "f8c1c129-dc90-45b8-a5b1-c243da97ed20"
      },
      "source": [
        "# calcular el mínimo y máximo de las dos variables con las funciones min y max\n",
        "min(faithful$eruptions)\n",
        "max(faithful$eruptions)\n",
        "\n",
        "min(faithful$waiting)\n",
        "max(faithful$waiting)\n",
        "# ordenando tambien pueden encontrarse el mínimo y el máximo\n",
        "#sort(faithful$waiting)\n",
        "#sort(faithful$eruptions)\n",
        "\n",
        "# Otra opción es la función range\n",
        "range(faithful$waiting)\n",
        "range(faithful$eruptions)"
      ],
      "execution_count": null,
      "outputs": [
        {
          "output_type": "display_data",
          "data": {
            "text/plain": [
              "[1] 1.6"
            ],
            "text/latex": "1.6",
            "text/markdown": "1.6",
            "text/html": [
              "1.6"
            ]
          },
          "metadata": {
            "tags": []
          }
        },
        {
          "output_type": "display_data",
          "data": {
            "text/plain": [
              "[1] 5.1"
            ],
            "text/latex": "5.1",
            "text/markdown": "5.1",
            "text/html": [
              "5.1"
            ]
          },
          "metadata": {
            "tags": []
          }
        },
        {
          "output_type": "display_data",
          "data": {
            "text/plain": [
              "[1] 43"
            ],
            "text/latex": "43",
            "text/markdown": "43",
            "text/html": [
              "43"
            ]
          },
          "metadata": {
            "tags": []
          }
        },
        {
          "output_type": "display_data",
          "data": {
            "text/plain": [
              "[1] 96"
            ],
            "text/latex": "96",
            "text/markdown": "96",
            "text/html": [
              "96"
            ]
          },
          "metadata": {
            "tags": []
          }
        },
        {
          "output_type": "display_data",
          "data": {
            "text/plain": [
              "[1] 43 96"
            ],
            "text/latex": "\\begin{enumerate*}\n\\item 43\n\\item 96\n\\end{enumerate*}\n",
            "text/markdown": "1. 43\n2. 96\n\n\n",
            "text/html": [
              "<style>\n",
              ".list-inline {list-style: none; margin:0; padding: 0}\n",
              ".list-inline>li {display: inline-block}\n",
              ".list-inline>li:not(:last-child)::after {content: \"\\00b7\"; padding: 0 .5ex}\n",
              "</style>\n",
              "<ol class=list-inline><li>43</li><li>96</li></ol>\n"
            ]
          },
          "metadata": {
            "tags": []
          }
        },
        {
          "output_type": "display_data",
          "data": {
            "text/plain": [
              "[1] 1.6 5.1"
            ],
            "text/latex": "\\begin{enumerate*}\n\\item 1.6\n\\item 5.1\n\\end{enumerate*}\n",
            "text/markdown": "1. 1.6\n2. 5.1\n\n\n",
            "text/html": [
              "<style>\n",
              ".list-inline {list-style: none; margin:0; padding: 0}\n",
              ".list-inline>li {display: inline-block}\n",
              ".list-inline>li:not(:last-child)::after {content: \"\\00b7\"; padding: 0 .5ex}\n",
              "</style>\n",
              "<ol class=list-inline><li>1.6</li><li>5.1</li></ol>\n"
            ]
          },
          "metadata": {
            "tags": []
          }
        }
      ]
    },
    {
      "cell_type": "markdown",
      "metadata": {
        "id": "HQ9Zvxlt7Mpz"
      },
      "source": [
        "Interpretación:\n",
        "\n",
        "La exhalación que tardó menos fue de 1.6 min y la que tardó mas de 5.1 min\n",
        "\n",
        "El tiempo menor en el que apareció una exhalación fue de 43 min y el mayor de 96 min.\n",
        "\n"
      ]
    },
    {
      "cell_type": "markdown",
      "metadata": {
        "id": "fqdHKMlxPKvJ"
      },
      "source": [
        "### 1.2 Tendencia central\n",
        "\n",
        "Una medida de tendencia central es un número ubicado hacia el centro de la distribución de los valores de una serie de observaciones.\n",
        "\n",
        "Las medidas de tendencia central más utilizadas son:\n",
        "\n",
        "1. Media, promedio, media aritmética o valor esperado (esperanza matemática) \n",
        "$$Media \\: muestral = \\bar{x} = \\frac{1}{n} \\sum_{i=1}^{n}{x_i} $$\n",
        "$$Media \\: poblacional = \\mu = \\frac{1}{N} \\sum_{i=1}^{N}{X_i} $$ \n",
        "\n",
        "2. Media ponderada. \n",
        "\n",
        "<center>\n",
        "\n",
        "![](https://wikimedia.org/api/rest_v1/media/math/render/svg/e8d7a3414a91d06cbc00c2471c1b86ddefd5c9c3)\n",
        "\n",
        "</center>\n",
        "donde $w_1, w_2,...,wn$ son las ponderaciones.\n",
        "\n",
        "\n",
        "3. Media podada (trimmed mean) o truncada\n",
        "\n",
        "<center>\n",
        "\n",
        "![](https://images.squarespace-cdn.com/content/v1/521e95f4e4b01c5870ce81cf/1391011094816-4LPTW22KVTEGNAREOZ64/fig.png)\n",
        "\n",
        "</center>\n",
        "\n",
        "4. Media geométrica. Es un buen estimador de la mediana.\n",
        "\n",
        "$$GM = (x_1*x_2, ...,x_{n-1}* x_n)^{1/n}$$\n",
        "\n",
        "$$GM = exp(\\bar{y}),\\: \\: \\bar{y}=\\frac {1}{n}\\sum_{i=1}^{n}{ln(x_i)}$$\n",
        "\n",
        "5. Mediana. \n",
        "\n",
        "|   |   |   |   |   |\n",
        "|---|---|---|---|---|\n",
        "| $$X_{(n+1/2)}$$  | Si n es impar  |\n",
        "| $$\\frac{1}{2}(X_{(n/2)}+ X_{(n/2+1)}) $$  |Si n es par   |   \n",
        "\n",
        "6. Moda\n",
        "\n",
        "[https://es.wikipedia.org/wiki/Medidas_de_tendencia_central](https://es.wikipedia.org/wiki/Medidas_de_tendencia_central)"
      ]
    },
    {
      "cell_type": "code",
      "metadata": {
        "id": "LbWRZhkTBK9J",
        "colab": {
          "base_uri": "https://localhost:8080/",
          "height": 85
        },
        "outputId": "7a1258ec-6826-407d-ec47-0297990be6cb"
      },
      "source": [
        "# La media de la muestra\n",
        "mean(faithful$eruptions)\n",
        "mean(faithful$waiting)\n",
        "\n",
        "# la función colMeans calcula el promedio para cada una de las columnas numéricas\n",
        "#colMeans(nombre_dataframe)\n",
        "colMeans(faithful)\n",
        "\n",
        "#la función apply sappply aplica una función a cada una de las columnas y los almacena en un vector\n",
        "#apply(dataframe,MARGIN-renglón o columna,FUN)      1 renglon  2 columna\n",
        "apply(faithful,MARGIN = 2, FUN = mean)\n"
      ],
      "execution_count": null,
      "outputs": [
        {
          "output_type": "display_data",
          "data": {
            "text/plain": [
              "[1] 3.487783"
            ],
            "text/latex": "3.48778308823529",
            "text/markdown": "3.48778308823529",
            "text/html": [
              "3.48778308823529"
            ]
          },
          "metadata": {
            "tags": []
          }
        },
        {
          "output_type": "display_data",
          "data": {
            "text/plain": [
              "[1] 70.89706"
            ],
            "text/latex": "70.8970588235294",
            "text/markdown": "70.8970588235294",
            "text/html": [
              "70.8970588235294"
            ]
          },
          "metadata": {
            "tags": []
          }
        },
        {
          "output_type": "display_data",
          "data": {
            "text/plain": [
              "eruptions   waiting \n",
              " 3.487783 70.897059 "
            ],
            "text/latex": "\\begin{description*}\n\\item[eruptions] 3.48778308823529\n\\item[waiting] 70.8970588235294\n\\end{description*}\n",
            "text/markdown": "eruptions\n:   3.48778308823529waiting\n:   70.8970588235294\n\n",
            "text/html": [
              "<style>\n",
              ".dl-inline {width: auto; margin:0; padding: 0}\n",
              ".dl-inline>dt, .dl-inline>dd {float: none; width: auto; display: inline-block}\n",
              ".dl-inline>dt::after {content: \":\\0020\"; padding-right: .5ex}\n",
              ".dl-inline>dt:not(:first-of-type) {padding-left: .5ex}\n",
              "</style><dl class=dl-inline><dt>eruptions</dt><dd>3.48778308823529</dd><dt>waiting</dt><dd>70.8970588235294</dd></dl>\n"
            ]
          },
          "metadata": {
            "tags": []
          }
        },
        {
          "output_type": "display_data",
          "data": {
            "text/plain": [
              "eruptions   waiting \n",
              " 3.487783 70.897059 "
            ],
            "text/latex": "\\begin{description*}\n\\item[eruptions] 3.48778308823529\n\\item[waiting] 70.8970588235294\n\\end{description*}\n",
            "text/markdown": "eruptions\n:   3.48778308823529waiting\n:   70.8970588235294\n\n",
            "text/html": [
              "<style>\n",
              ".dl-inline {width: auto; margin:0; padding: 0}\n",
              ".dl-inline>dt, .dl-inline>dd {float: none; width: auto; display: inline-block}\n",
              ".dl-inline>dt::after {content: \":\\0020\"; padding-right: .5ex}\n",
              ".dl-inline>dt:not(:first-of-type) {padding-left: .5ex}\n",
              "</style><dl class=dl-inline><dt>eruptions</dt><dd>3.48778308823529</dd><dt>waiting</dt><dd>70.8970588235294</dd></dl>\n"
            ]
          },
          "metadata": {
            "tags": []
          }
        }
      ]
    },
    {
      "cell_type": "markdown",
      "metadata": {
        "id": "pQeuJ7MZjIIK"
      },
      "source": [
        "Interpretación:\n",
        "El tiempo que duran las exhalaciones es de aproximadamente 3.49 min\n",
        "\n",
        "El tiempo que transcurre entre las exhalaciones es de aproximadamente 70.9 min."
      ]
    },
    {
      "cell_type": "code",
      "metadata": {
        "id": "saoy59VUYV42",
        "colab": {
          "base_uri": "https://localhost:8080/",
          "height": 85
        },
        "outputId": "b76ad33a-1c4f-4727-a7bc-9f8e8d3a0bfc"
      },
      "source": [
        "# calcular la media podada 10% que quita el 10% de valores más grandes y el 10% de valores más pequeños\n",
        "# mean(vector, trim = 0, na.rm = FALSE, ...)\n",
        "mean(faithful$eruptions, trim = 0.10)   \n",
        "\n",
        "#######################aplique apply#############\n",
        "# generar funcion para podar\n",
        "poda_10 <- function (x) {mean(x,trim=.10)}\n",
        "\n",
        "poda_10(faithful$eruptions)\n",
        "# aplicar apply\n",
        "apply(faithful,MARGIN = 2, FUN = poda_10)\n",
        "################################################\n",
        "apply(faithful,MARGIN = 2, FUN = mean,trim=0.1)  ## ooooohhhhhh\n",
        "\n"
      ],
      "execution_count": null,
      "outputs": [
        {
          "output_type": "display_data",
          "data": {
            "text/plain": [
              "[1] 3.529807"
            ],
            "text/latex": "3.52980733944954",
            "text/markdown": "3.52980733944954",
            "text/html": [
              "3.52980733944954"
            ]
          },
          "metadata": {
            "tags": []
          }
        },
        {
          "output_type": "display_data",
          "data": {
            "text/plain": [
              "[1] 3.529807"
            ],
            "text/latex": "3.52980733944954",
            "text/markdown": "3.52980733944954",
            "text/html": [
              "3.52980733944954"
            ]
          },
          "metadata": {
            "tags": []
          }
        },
        {
          "output_type": "display_data",
          "data": {
            "text/plain": [
              "eruptions   waiting \n",
              " 3.529807 71.495413 "
            ],
            "text/latex": "\\begin{description*}\n\\item[eruptions] 3.52980733944954\n\\item[waiting] 71.4954128440367\n\\end{description*}\n",
            "text/markdown": "eruptions\n:   3.52980733944954waiting\n:   71.4954128440367\n\n",
            "text/html": [
              "<style>\n",
              ".dl-inline {width: auto; margin:0; padding: 0}\n",
              ".dl-inline>dt, .dl-inline>dd {float: none; width: auto; display: inline-block}\n",
              ".dl-inline>dt::after {content: \":\\0020\"; padding-right: .5ex}\n",
              ".dl-inline>dt:not(:first-of-type) {padding-left: .5ex}\n",
              "</style><dl class=dl-inline><dt>eruptions</dt><dd>3.52980733944954</dd><dt>waiting</dt><dd>71.4954128440367</dd></dl>\n"
            ]
          },
          "metadata": {
            "tags": []
          }
        },
        {
          "output_type": "display_data",
          "data": {
            "text/plain": [
              "eruptions   waiting \n",
              " 3.529807 71.495413 "
            ],
            "text/latex": "\\begin{description*}\n\\item[eruptions] 3.52980733944954\n\\item[waiting] 71.4954128440367\n\\end{description*}\n",
            "text/markdown": "eruptions\n:   3.52980733944954waiting\n:   71.4954128440367\n\n",
            "text/html": [
              "<style>\n",
              ".dl-inline {width: auto; margin:0; padding: 0}\n",
              ".dl-inline>dt, .dl-inline>dd {float: none; width: auto; display: inline-block}\n",
              ".dl-inline>dt::after {content: \":\\0020\"; padding-right: .5ex}\n",
              ".dl-inline>dt:not(:first-of-type) {padding-left: .5ex}\n",
              "</style><dl class=dl-inline><dt>eruptions</dt><dd>3.52980733944954</dd><dt>waiting</dt><dd>71.4954128440367</dd></dl>\n"
            ]
          },
          "metadata": {
            "tags": []
          }
        }
      ]
    },
    {
      "cell_type": "markdown",
      "metadata": {
        "id": "Os04hkQijMeA"
      },
      "source": [
        "Interpretación:\n",
        "EL tiempo de las exhalaciones es de aproximadamente 3.53 min cuando se le han podado el 10% de datos más pequeños y el 10% de datos mas grandes\n"
      ]
    },
    {
      "cell_type": "code",
      "metadata": {
        "id": "5zxfpazWFj03",
        "colab": {
          "base_uri": "https://localhost:8080/",
          "height": 68
        },
        "outputId": "4cdbc57d-b25b-4d30-b3c2-c353334e6787"
      },
      "source": [
        "# verificar que elimina 10% superior e inferior calculando la media podada al 10% de los números 1 al 10\n",
        "x <- 1:10\n",
        "mean(x)\n",
        "\n",
        "# podar al 10%\n",
        "mean(x,trim = 0.1)\n",
        "\n",
        "# media podada\n",
        "\n",
        "mean(sort(x)[-c(1,10)])"
      ],
      "execution_count": null,
      "outputs": [
        {
          "output_type": "display_data",
          "data": {
            "text/plain": [
              "[1] 5.5"
            ],
            "text/latex": "5.5",
            "text/markdown": "5.5",
            "text/html": [
              "5.5"
            ]
          },
          "metadata": {
            "tags": []
          }
        },
        {
          "output_type": "display_data",
          "data": {
            "text/plain": [
              "[1] 5.5"
            ],
            "text/latex": "5.5",
            "text/markdown": "5.5",
            "text/html": [
              "5.5"
            ]
          },
          "metadata": {
            "tags": []
          }
        },
        {
          "output_type": "display_data",
          "data": {
            "text/plain": [
              "[1] 5.5"
            ],
            "text/latex": "5.5",
            "text/markdown": "5.5",
            "text/html": [
              "5.5"
            ]
          },
          "metadata": {
            "tags": []
          }
        }
      ]
    },
    {
      "cell_type": "code",
      "metadata": {
        "id": "qgfCrJ-XiedP",
        "colab": {
          "base_uri": "https://localhost:8080/",
          "height": 85
        },
        "outputId": "f1934020-d094-4077-dfd1-2a8c92116524"
      },
      "source": [
        "# la media geométrica es un estimador de la mediana\n",
        "# con el producto\n",
        "prod(faithful$eruptions)^(1/272)\n",
        "\n",
        "# con log------es mejor cuando hay muchos valores grandes\n",
        "exp(mean(log(faithful$eruptions)))\n",
        "\n",
        "# ahora con waiting\n",
        "prod(faithful$waiting)^(1/272)\n",
        "\n",
        "exp(mean(log(faithful$waiting)))\n"
      ],
      "execution_count": null,
      "outputs": [
        {
          "output_type": "display_data",
          "data": {
            "text/plain": [
              "[1] 3.271313"
            ],
            "text/latex": "3.27131313253618",
            "text/markdown": "3.27131313253618",
            "text/html": [
              "3.27131313253618"
            ]
          },
          "metadata": {
            "tags": []
          }
        },
        {
          "output_type": "display_data",
          "data": {
            "text/plain": [
              "[1] 3.271313"
            ],
            "text/latex": "3.27131313253618",
            "text/markdown": "3.27131313253618",
            "text/html": [
              "3.27131313253618"
            ]
          },
          "metadata": {
            "tags": []
          }
        },
        {
          "output_type": "display_data",
          "data": {
            "text/plain": [
              "[1] Inf"
            ],
            "text/latex": "Inf",
            "text/markdown": "Inf",
            "text/html": [
              "Inf"
            ]
          },
          "metadata": {
            "tags": []
          }
        },
        {
          "output_type": "display_data",
          "data": {
            "text/plain": [
              "[1] 69.49084"
            ],
            "text/latex": "69.4908427405603",
            "text/markdown": "69.4908427405603",
            "text/html": [
              "69.4908427405603"
            ]
          },
          "metadata": {
            "tags": []
          }
        }
      ]
    },
    {
      "cell_type": "markdown",
      "metadata": {
        "id": "nJGtDc3XFpqj"
      },
      "source": [
        "Interpretación:\n",
        "Las exhalaciones duran aproximadamente 3.27 min"
      ]
    },
    {
      "cell_type": "code",
      "metadata": {
        "id": "ryNgiGgpiplf",
        "colab": {
          "base_uri": "https://localhost:8080/",
          "height": 303
        },
        "outputId": "65d044ce-ba2c-4391-fba3-0a8e4bc0a2ea"
      },
      "source": [
        "# la mediana\n",
        "median(faithful$eruptions)\n",
        "median(faithful$waiting)\n",
        "\n",
        "# aplique apply\n",
        "apply(faithful,MARGIN = 2, FUN = median) \n",
        "\n",
        "# agreguemos algo más a apply\n",
        "apply(faithful,MARGIN = 2, function(x) c('Mímimo' = min(x), \n",
        "                                         'Máximo' = max(x),\n",
        "                                         'Media' = mean(x),\n",
        "                                         'Media_10' = mean(x,trim=.10),\n",
        "                                         'MG' = exp(mean(log(x))),\n",
        "                                         'Mediana' = median(x)))\n"
      ],
      "execution_count": null,
      "outputs": [
        {
          "output_type": "display_data",
          "data": {
            "text/plain": [
              "[1] 4"
            ],
            "text/latex": "4",
            "text/markdown": "4",
            "text/html": [
              "4"
            ]
          },
          "metadata": {
            "tags": []
          }
        },
        {
          "output_type": "display_data",
          "data": {
            "text/plain": [
              "[1] 76"
            ],
            "text/latex": "76",
            "text/markdown": "76",
            "text/html": [
              "76"
            ]
          },
          "metadata": {
            "tags": []
          }
        },
        {
          "output_type": "display_data",
          "data": {
            "text/plain": [
              "eruptions   waiting \n",
              "        4        76 "
            ],
            "text/latex": "\\begin{description*}\n\\item[eruptions] 4\n\\item[waiting] 76\n\\end{description*}\n",
            "text/markdown": "eruptions\n:   4waiting\n:   76\n\n",
            "text/html": [
              "<style>\n",
              ".dl-inline {width: auto; margin:0; padding: 0}\n",
              ".dl-inline>dt, .dl-inline>dd {float: none; width: auto; display: inline-block}\n",
              ".dl-inline>dt::after {content: \":\\0020\"; padding-right: .5ex}\n",
              ".dl-inline>dt:not(:first-of-type) {padding-left: .5ex}\n",
              "</style><dl class=dl-inline><dt>eruptions</dt><dd>4</dd><dt>waiting</dt><dd>76</dd></dl>\n"
            ]
          },
          "metadata": {
            "tags": []
          }
        },
        {
          "output_type": "display_data",
          "data": {
            "text/plain": [
              "         eruptions waiting \n",
              "Mímimo   1.600000  43.00000\n",
              "Máximo   5.100000  96.00000\n",
              "Media    3.487783  70.89706\n",
              "Media_10 3.529807  71.49541\n",
              "MG       3.271313  69.49084\n",
              "Mediana  4.000000  76.00000"
            ],
            "text/latex": "A matrix: 6 × 2 of type dbl\n\\begin{tabular}{r|ll}\n  & eruptions & waiting\\\\\n\\hline\n\tMímimo & 1.600000 & 43.00000\\\\\n\tMáximo & 5.100000 & 96.00000\\\\\n\tMedia & 3.487783 & 70.89706\\\\\n\tMedia\\_10 & 3.529807 & 71.49541\\\\\n\tMG & 3.271313 & 69.49084\\\\\n\tMediana & 4.000000 & 76.00000\\\\\n\\end{tabular}\n",
            "text/markdown": "\nA matrix: 6 × 2 of type dbl\n\n| <!--/--> | eruptions | waiting |\n|---|---|---|\n| Mímimo | 1.600000 | 43.00000 |\n| Máximo | 5.100000 | 96.00000 |\n| Media | 3.487783 | 70.89706 |\n| Media_10 | 3.529807 | 71.49541 |\n| MG | 3.271313 | 69.49084 |\n| Mediana | 4.000000 | 76.00000 |\n\n",
            "text/html": [
              "<table class=\"dataframe\">\n",
              "<caption>A matrix: 6 × 2 of type dbl</caption>\n",
              "<thead>\n",
              "\t<tr><th></th><th scope=col>eruptions</th><th scope=col>waiting</th></tr>\n",
              "</thead>\n",
              "<tbody>\n",
              "\t<tr><th scope=row>Mímimo</th><td>1.600000</td><td>43.00000</td></tr>\n",
              "\t<tr><th scope=row>Máximo</th><td>5.100000</td><td>96.00000</td></tr>\n",
              "\t<tr><th scope=row>Media</th><td>3.487783</td><td>70.89706</td></tr>\n",
              "\t<tr><th scope=row>Media_10</th><td>3.529807</td><td>71.49541</td></tr>\n",
              "\t<tr><th scope=row>MG</th><td>3.271313</td><td>69.49084</td></tr>\n",
              "\t<tr><th scope=row>Mediana</th><td>4.000000</td><td>76.00000</td></tr>\n",
              "</tbody>\n",
              "</table>\n"
            ]
          },
          "metadata": {
            "tags": []
          }
        }
      ]
    },
    {
      "cell_type": "code",
      "metadata": {
        "id": "jN1UzqHDjCCq",
        "colab": {
          "base_uri": "https://localhost:8080/",
          "height": 85
        },
        "outputId": "0980561a-821d-4f8c-86e7-0bb73d142e37"
      },
      "source": [
        "# la moda\n",
        "sort(table(faithful$eruptions),decreasing = T)[1:5]\n",
        "\n",
        "sort(table(faithful$waiting),decreasing = T)[1]\n"
      ],
      "execution_count": null,
      "outputs": [
        {
          "output_type": "display_data",
          "data": {
            "text/plain": [
              "\n",
              "1.867   4.5 1.833  1.75     4 \n",
              "    8     8     7     6     6 "
            ]
          },
          "metadata": {
            "tags": []
          }
        },
        {
          "output_type": "display_data",
          "data": {
            "text/plain": [
              "78 \n",
              "15 "
            ],
            "text/latex": "\\textbf{78:} 15",
            "text/markdown": "**78:** 15",
            "text/html": [
              "<strong>78:</strong> 15"
            ]
          },
          "metadata": {
            "tags": []
          }
        }
      ]
    },
    {
      "cell_type": "markdown",
      "metadata": {
        "id": "fPjxvBb5khI_"
      },
      "source": [
        "Interpretación:\n",
        "Los tiempos que tardan las exhalaciones se encuentran aprox. en 1.867 min y  4.5 min. Es un conjunto bimodal.\n",
        "\n",
        "Los tiempos entre exhalaciones están aprox. en 78 min.\n",
        "\n"
      ]
    },
    {
      "cell_type": "markdown",
      "metadata": {
        "id": "610sndmTknXu"
      },
      "source": [
        "## ¿Cuál medida de tendencia central usar?\n",
        "### La relación entre la gráfica de la distribución y las medidas de tendencia central.\n",
        "\n",
        "En distribuciones unimodales cuando la media, la moda y la mediana coinciden la distribución es simétrica.\n",
        "\n",
        "En distribuciones unimodales cuando la media, la moda y la mediana no coinciden la distribución es sesgada. Si la media es mayor que la mediana (la media a la derecha de la mediana) entonces la distribución está sesgada a la derecha (o positivamente).\n",
        "\n",
        "Si la media es menor que la mediana (la media a la izquierda de la mediana) entonces la distribución está sesgada a la izquierda (o negativamente)\n",
        "\n",
        "![](https://mucioosorio.github.io/probabilidad/figs/06_forma-datos.png)\n",
        "\n",
        "[Tendencia central y gráfica](http://www.cca.org.mx/cca/cursos/estadistica/html/m10/comoparacion_medidas.htm)"
      ]
    },
    {
      "cell_type": "code",
      "metadata": {
        "id": "84smvQTzI_WS",
        "colab": {
          "base_uri": "https://localhost:8080/",
          "height": 102
        },
        "outputId": "50899bdf-5688-4da2-ef2e-37de04505239"
      },
      "source": [
        "# Según el valor de la media, mediana y moda puede inferir sobre la forma de la distribución de los tiempos de las exhalaciones\n",
        "mean(faithful$eruptions)\n",
        "median(faithful$eruptions)\n",
        "sort(table(faithful$eruptions),decreasing = T)[1:5]\n",
        "\n"
      ],
      "execution_count": null,
      "outputs": [
        {
          "output_type": "display_data",
          "data": {
            "text/plain": [
              "[1] 3.487783"
            ],
            "text/latex": "3.48778308823529",
            "text/markdown": "3.48778308823529",
            "text/html": [
              "3.48778308823529"
            ]
          },
          "metadata": {
            "tags": []
          }
        },
        {
          "output_type": "display_data",
          "data": {
            "text/plain": [
              "[1] 4"
            ],
            "text/latex": "4",
            "text/markdown": "4",
            "text/html": [
              "4"
            ]
          },
          "metadata": {
            "tags": []
          }
        },
        {
          "output_type": "display_data",
          "data": {
            "text/plain": [
              "\n",
              "1.867   4.5 1.833  1.75     4 \n",
              "    8     8     7     6     6 "
            ]
          },
          "metadata": {
            "tags": []
          }
        }
      ]
    },
    {
      "cell_type": "markdown",
      "metadata": {
        "id": "hSD9IbmxpiXj"
      },
      "source": [
        "¿Qué forma tiene la distribución? bimodal ¿Cuál medida recomendaría usar? moda\n",
        "\n",
        "\n",
        "\n",
        "\n",
        "\n"
      ]
    },
    {
      "cell_type": "markdown",
      "metadata": {
        "id": "tLsQDyknJyoB"
      },
      "source": [
        "### Ejercicio 1.\n",
        "\n",
        "Según sus medidas de localización ¿qué forma tienen los siguientes datos que representan estaturas? ¿Cuál medida de tendencia central se puede usar para describirlas?\n",
        "\n",
        "> 1.62,1.63,1.63,1.63,1.64,1.64,1.65,1.65,1.67,1.67,1.67,1.68,1.68,1.68,1.68,1.69,1.7,1.71,1.71,1.71,1.72,1.73,1.76,1.77,1.77"
      ]
    },
    {
      "cell_type": "code",
      "metadata": {
        "id": "hGsdWac-KjJG",
        "colab": {
          "base_uri": "https://localhost:8080/",
          "height": 102
        },
        "outputId": "ab240ea3-f232-4b69-f813-e915c9ddabdd"
      },
      "source": [
        "# Generar un vector con las estaturas\n",
        "estaturas <- c(1.62,1.63,1.63,1.63,1.64,1.64,1.65,1.65,1.67,1.67,1.67,1.68,1.68,1.68,1.68,1.69,1.7,1.71,1.71,1.71,1.72,1.73,1.76,1.77,1.77)\n",
        "\n",
        "# calcular las medidas de tendencia central \n",
        "mean(estaturas)\n",
        "median(estaturas)\n",
        "sort(table(estaturas),decreasing = T)[1:5]\n",
        "\n"
      ],
      "execution_count": null,
      "outputs": [
        {
          "output_type": "display_data",
          "data": {
            "text/plain": [
              "[1] 1.6836"
            ],
            "text/latex": "1.6836",
            "text/markdown": "1.6836",
            "text/html": [
              "1.6836"
            ]
          },
          "metadata": {
            "tags": []
          }
        },
        {
          "output_type": "display_data",
          "data": {
            "text/plain": [
              "[1] 1.68"
            ],
            "text/latex": "1.68",
            "text/markdown": "1.68",
            "text/html": [
              "1.68"
            ]
          },
          "metadata": {
            "tags": []
          }
        },
        {
          "output_type": "display_data",
          "data": {
            "text/plain": [
              "estaturas\n",
              "1.68 1.63 1.67 1.71 1.64 \n",
              "   4    3    3    3    2 "
            ]
          },
          "metadata": {
            "tags": []
          }
        }
      ]
    },
    {
      "cell_type": "markdown",
      "metadata": {
        "id": "iiyTa7oLM5k6"
      },
      "source": [
        "REspuesta: Las estaturas son simétricas. Se puede usar a cualquiera de las medidas para representarlos"
      ]
    },
    {
      "cell_type": "markdown",
      "metadata": {
        "id": "9Mn1AmUTO-B_"
      },
      "source": [
        "### Ejercicio 2. \n",
        "Los siguientes datos son la cantidad de arsénico en agua subterránea en algunos lugares\n",
        "\n",
        "> 1.3,8,1.5,9.5,100,580,110,1.8, 2.6, 2.8, 3.5,12, 14, 19, 23,120, 190, 240, 250,4.0,41,300,4.8,80,340\n",
        "\n",
        "¿Qué forma tiene la distribución?¿Qué medida recomendaría para el centro?"
      ]
    },
    {
      "cell_type": "code",
      "metadata": {
        "id": "bFhHIL6cP8nr",
        "colab": {
          "base_uri": "https://localhost:8080/",
          "height": 102
        },
        "outputId": "b41d609a-3a87-4769-e6ca-00259f0c7f62"
      },
      "source": [
        "# genere un vector con el nombre arsenico\n",
        "a <- c(1.3,8,1.5,9.5,100,580,110,1.8, 2.6, 2.8, 3.5,12, 14, 19, 23,120, 190, 240, 250,4.0,41,300,4.8,80,340)\n",
        "\n",
        "# calcular las medidas de tendencia central\n",
        "mean(a)\n",
        "median(a)\n",
        "sort(table(a),decreasing = T)[1:5]"
      ],
      "execution_count": null,
      "outputs": [
        {
          "output_type": "display_data",
          "data": {
            "text/plain": [
              "[1] 98.352"
            ],
            "text/latex": "98.352",
            "text/markdown": "98.352",
            "text/html": [
              "98.352"
            ]
          },
          "metadata": {
            "tags": []
          }
        },
        {
          "output_type": "display_data",
          "data": {
            "text/plain": [
              "[1] 19"
            ],
            "text/latex": "19",
            "text/markdown": "19",
            "text/html": [
              "19"
            ]
          },
          "metadata": {
            "tags": []
          }
        },
        {
          "output_type": "display_data",
          "data": {
            "text/plain": [
              "a\n",
              "1.3 1.5 1.8 2.6 2.8 \n",
              "  1   1   1   1   1 "
            ]
          },
          "metadata": {
            "tags": []
          }
        }
      ]
    },
    {
      "cell_type": "markdown",
      "metadata": {
        "id": "n4ImpjLQQkGu"
      },
      "source": [
        "Respuesta: Las concentraciones de arsénico son asimétricas con sesgo a la derecha y recomendaría a la mediana."
      ]
    },
    {
      "cell_type": "markdown",
      "metadata": {
        "id": "_2TA-FE1TZBS"
      },
      "source": [
        "\n",
        "\n",
        "![](https://github.com/mucioosorio/Diplomado-con-R.-Mayo-de-2021/blob/main/central_forma.JPG?raw=true)"
      ]
    },
    {
      "cell_type": "code",
      "metadata": {
        "colab": {
          "base_uri": "https://localhost:8080/",
          "height": 437
        },
        "id": "Ch-xY28-T0Vm",
        "outputId": "5e787d7b-a2ab-41c8-8d3f-9516a15a49e3"
      },
      "source": [
        "hist(faithful$eruptions)\n",
        "abline(v=mean(faithful$eruptions))"
      ],
      "execution_count": 6,
      "outputs": [
        {
          "output_type": "display_data",
          "data": {
            "image/png": "[encoded data removed]",
            "text/plain": [
              "Plot with title “Histogram of faithful$eruptions”"
            ]
          },
          "metadata": {
            "tags": [],
            "image/png": {
              "width": 420,
              "height": 420
            }
          }
        }
      ]
    },
    {
      "cell_type": "markdown",
      "metadata": {
        "id": "ayDS6FTRB35Y"
      },
      "source": [
        "Observación. El hecho de que unconjunto de datos tenga medidas de tendencia central no lo hace simétrico. \n",
        "\n",
        "Esto lo podemos confirmar con un conjunto de datos con el conjunto de datos llamado \"El cuarteto de Anscombe\" que consta de cuatro conjuntos de datos que tienen las mismas propiedades estadísticas (localización variación y misma recta de regresión), pero que al inspeccionar sus distribuciones respectivas son distintos.\n",
        "\n",
        "Cada conjunto consiste de once puntos (x, y) y fueron construidos por el estadístico [F. J. Anscombe](https://en.wikipedia.org/wiki/Frank_Anscombe). El cuarteto es una demostración de la importancia de mirar gráficamente un conjunto de datos antes de analizarlos.\n",
        "\n",
        "Para los cuatro conjuntos de datos:\n",
        "\n",
        "|       |                   | \n",
        "|-------|:-----------------:|\n",
        "|Media de  x|\t9.0    \n",
        "|Varianza de x\t|11.0   \n",
        "|Media de y|\t7.5   \n",
        "|Varianza de y\t|4.12\n",
        "|Correlación entre x e y|\t0.816    \n",
        "|Recta de regresión\t|$y=3+0.5x$     \n",
        "\n"
      ]
    },
    {
      "cell_type": "code",
      "metadata": {
        "colab": {
          "base_uri": "https://localhost:8080/",
          "height": 442
        },
        "id": "AO4k4EyjBLEE",
        "outputId": "c3eda6da-e3b7-49bc-9ca7-ec2ad17651a1"
      },
      "source": [
        "# este conjunto de datos existe en el sistema base de R\n",
        "anscombe\n"
      ],
      "execution_count": null,
      "outputs": [
        {
          "output_type": "display_data",
          "data": {
            "text/plain": [
              "   x1 x2 x3 x4 y1    y2   y3    y4   \n",
              "1  10 10 10  8  8.04 9.14  7.46  6.58\n",
              "2   8  8  8  8  6.95 8.14  6.77  5.76\n",
              "3  13 13 13  8  7.58 8.74 12.74  7.71\n",
              "4   9  9  9  8  8.81 8.77  7.11  8.84\n",
              "5  11 11 11  8  8.33 9.26  7.81  8.47\n",
              "6  14 14 14  8  9.96 8.10  8.84  7.04\n",
              "7   6  6  6  8  7.24 6.13  6.08  5.25\n",
              "8   4  4  4 19  4.26 3.10  5.39 12.50\n",
              "9  12 12 12  8 10.84 9.13  8.15  5.56\n",
              "10  7  7  7  8  4.82 7.26  6.42  7.91\n",
              "11  5  5  5  8  5.68 4.74  5.73  6.89"
            ],
            "text/latex": "A data.frame: 11 × 8\n\\begin{tabular}{llllllll}\n x1 & x2 & x3 & x4 & y1 & y2 & y3 & y4\\\\\n <dbl> & <dbl> & <dbl> & <dbl> & <dbl> & <dbl> & <dbl> & <dbl>\\\\\n\\hline\n\t 10 & 10 & 10 &  8 &  8.04 & 9.14 &  7.46 &  6.58\\\\\n\t  8 &  8 &  8 &  8 &  6.95 & 8.14 &  6.77 &  5.76\\\\\n\t 13 & 13 & 13 &  8 &  7.58 & 8.74 & 12.74 &  7.71\\\\\n\t  9 &  9 &  9 &  8 &  8.81 & 8.77 &  7.11 &  8.84\\\\\n\t 11 & 11 & 11 &  8 &  8.33 & 9.26 &  7.81 &  8.47\\\\\n\t 14 & 14 & 14 &  8 &  9.96 & 8.10 &  8.84 &  7.04\\\\\n\t  6 &  6 &  6 &  8 &  7.24 & 6.13 &  6.08 &  5.25\\\\\n\t  4 &  4 &  4 & 19 &  4.26 & 3.10 &  5.39 & 12.50\\\\\n\t 12 & 12 & 12 &  8 & 10.84 & 9.13 &  8.15 &  5.56\\\\\n\t  7 &  7 &  7 &  8 &  4.82 & 7.26 &  6.42 &  7.91\\\\\n\t  5 &  5 &  5 &  8 &  5.68 & 4.74 &  5.73 &  6.89\\\\\n\\end{tabular}\n",
            "text/markdown": "\nA data.frame: 11 × 8\n\n| x1 &lt;dbl&gt; | x2 &lt;dbl&gt; | x3 &lt;dbl&gt; | x4 &lt;dbl&gt; | y1 &lt;dbl&gt; | y2 &lt;dbl&gt; | y3 &lt;dbl&gt; | y4 &lt;dbl&gt; |\n|---|---|---|---|---|---|---|---|\n| 10 | 10 | 10 |  8 |  8.04 | 9.14 |  7.46 |  6.58 |\n|  8 |  8 |  8 |  8 |  6.95 | 8.14 |  6.77 |  5.76 |\n| 13 | 13 | 13 |  8 |  7.58 | 8.74 | 12.74 |  7.71 |\n|  9 |  9 |  9 |  8 |  8.81 | 8.77 |  7.11 |  8.84 |\n| 11 | 11 | 11 |  8 |  8.33 | 9.26 |  7.81 |  8.47 |\n| 14 | 14 | 14 |  8 |  9.96 | 8.10 |  8.84 |  7.04 |\n|  6 |  6 |  6 |  8 |  7.24 | 6.13 |  6.08 |  5.25 |\n|  4 |  4 |  4 | 19 |  4.26 | 3.10 |  5.39 | 12.50 |\n| 12 | 12 | 12 |  8 | 10.84 | 9.13 |  8.15 |  5.56 |\n|  7 |  7 |  7 |  8 |  4.82 | 7.26 |  6.42 |  7.91 |\n|  5 |  5 |  5 |  8 |  5.68 | 4.74 |  5.73 |  6.89 |\n\n",
            "text/html": [
              "<table class=\"dataframe\">\n",
              "<caption>A data.frame: 11 × 8</caption>\n",
              "<thead>\n",
              "\t<tr><th scope=col>x1</th><th scope=col>x2</th><th scope=col>x3</th><th scope=col>x4</th><th scope=col>y1</th><th scope=col>y2</th><th scope=col>y3</th><th scope=col>y4</th></tr>\n",
              "\t<tr><th scope=col>&lt;dbl&gt;</th><th scope=col>&lt;dbl&gt;</th><th scope=col>&lt;dbl&gt;</th><th scope=col>&lt;dbl&gt;</th><th scope=col>&lt;dbl&gt;</th><th scope=col>&lt;dbl&gt;</th><th scope=col>&lt;dbl&gt;</th><th scope=col>&lt;dbl&gt;</th></tr>\n",
              "</thead>\n",
              "<tbody>\n",
              "\t<tr><td>10</td><td>10</td><td>10</td><td> 8</td><td> 8.04</td><td>9.14</td><td> 7.46</td><td> 6.58</td></tr>\n",
              "\t<tr><td> 8</td><td> 8</td><td> 8</td><td> 8</td><td> 6.95</td><td>8.14</td><td> 6.77</td><td> 5.76</td></tr>\n",
              "\t<tr><td>13</td><td>13</td><td>13</td><td> 8</td><td> 7.58</td><td>8.74</td><td>12.74</td><td> 7.71</td></tr>\n",
              "\t<tr><td> 9</td><td> 9</td><td> 9</td><td> 8</td><td> 8.81</td><td>8.77</td><td> 7.11</td><td> 8.84</td></tr>\n",
              "\t<tr><td>11</td><td>11</td><td>11</td><td> 8</td><td> 8.33</td><td>9.26</td><td> 7.81</td><td> 8.47</td></tr>\n",
              "\t<tr><td>14</td><td>14</td><td>14</td><td> 8</td><td> 9.96</td><td>8.10</td><td> 8.84</td><td> 7.04</td></tr>\n",
              "\t<tr><td> 6</td><td> 6</td><td> 6</td><td> 8</td><td> 7.24</td><td>6.13</td><td> 6.08</td><td> 5.25</td></tr>\n",
              "\t<tr><td> 4</td><td> 4</td><td> 4</td><td>19</td><td> 4.26</td><td>3.10</td><td> 5.39</td><td>12.50</td></tr>\n",
              "\t<tr><td>12</td><td>12</td><td>12</td><td> 8</td><td>10.84</td><td>9.13</td><td> 8.15</td><td> 5.56</td></tr>\n",
              "\t<tr><td> 7</td><td> 7</td><td> 7</td><td> 8</td><td> 4.82</td><td>7.26</td><td> 6.42</td><td> 7.91</td></tr>\n",
              "\t<tr><td> 5</td><td> 5</td><td> 5</td><td> 8</td><td> 5.68</td><td>4.74</td><td> 5.73</td><td> 6.89</td></tr>\n",
              "</tbody>\n",
              "</table>\n"
            ]
          },
          "metadata": {
            "tags": []
          }
        }
      ]
    },
    {
      "cell_type": "markdown",
      "metadata": {
        "id": "ZOvNy-p5M2Mj"
      },
      "source": [
        "![](https://upload.wikimedia.org/wikipedia/commons/thumb/e/ec/Anscombe%27s_quartet_3.svg/800px-Anscombe%27s_quartet_3.svg.png)"
      ]
    },
    {
      "cell_type": "code",
      "metadata": {
        "colab": {
          "base_uri": "https://localhost:8080/",
          "height": 1000
        },
        "id": "u7901OlJGfeR",
        "outputId": "480a3be6-5d84-42b5-da9c-29143f5d058e"
      },
      "source": [
        "\n",
        "invisible(lapply(anscombe[1:8], FUN=hist))\n",
        "\n",
        "\n",
        "\n",
        "\n"
      ],
      "execution_count": null,
      "outputs": [
        {
          "output_type": "display_data",
          "data": {
            "image/png": "[encoded data removed]",
            "text/plain": [
              "Plot with title “Histogram of X[[i]]”"
            ]
          },
          "metadata": {
            "tags": [],
            "image/png": {
              "width": 420,
              "height": 420
            }
          }
        },
        {
          "output_type": "display_data",
          "data": {
            "image/png": "[encoded data removed]",
            "text/plain": [
              "Plot with title “Histogram of X[[i]]”"
            ]
          },
          "metadata": {
            "tags": [],
            "image/png": {
              "width": 420,
              "height": 420
            }
          }
        },
        {
          "output_type": "display_data",
          "data": {
            "image/png": "[encoded data removed]",
            "text/plain": [
              "Plot with title “Histogram of X[[i]]”"
            ]
          },
          "metadata": {
            "tags": [],
            "image/png": {
              "width": 420,
              "height": 420
            }
          }
        },
        {
          "output_type": "display_data",
          "data": {
            "image/png": "[encoded data removed]",
            "text/plain": [
              "Plot with title “Histogram of X[[i]]”"
            ]
          },
          "metadata": {
            "tags": [],
            "image/png": {
              "width": 420,
              "height": 420
            }
          }
        },
        {
          "output_type": "display_data",
          "data": {
            "image/png": "[encoded data removed]",
            "text/plain": [
              "Plot with title “Histogram of X[[i]]”"
            ]
          },
          "metadata": {
            "tags": [],
            "image/png": {
              "width": 420,
              "height": 420
            }
          }
        },
        {
          "output_type": "display_data",
          "data": {
            "image/png": "[encoded data removed]",
            "text/plain": [
              "Plot with title “Histogram of X[[i]]”"
            ]
          },
          "metadata": {
            "tags": [],
            "image/png": {
              "width": 420,
              "height": 420
            }
          }
        }
      ]
    },
    {
      "cell_type": "markdown",
      "metadata": {
        "id": "ADe89Sq_Bp8z"
      },
      "source": [
        "# Dispersión o variabilidad\n",
        "\n",
        "Estudia la distribución de los valores de la serie, analizando si estos se encuentran más o menos concentrados, o más o menos dispersos. Existen diversas medidas de dispersión, entre las más utilizadas podemos destacar las siguientes:\n",
        "\n",
        "## Amplitud.\n",
        "Es la medida de dispersión más fácil de obtener. Se obtiene hallando la diferencia entre la observación mayor y la menor (el valor máximo menos el valor mínimo). La amplitud es una medida muy influenciada por los valores extremos y por lo tanto puede dar una impresión falsa sobre los valores reales de la distribución.\n",
        "\n",
        "* Se puede usar a la amplitud para estimar a la desviación estándar ([Range Rule for Standard Deviation](https://scholar.rose-hulman.edu/cgi/viewcontent.cgi?article=1211&context=rhumj)).\n",
        "\n",
        "* [Use of the Range Instead of the Standard Deviation](https://www.jstor.org/stable/2281203).\n",
        "\n",
        "\n"
      ]
    },
    {
      "cell_type": "markdown",
      "metadata": {
        "id": "e6qQO1_sp6li"
      },
      "source": [
        "## Cuantiles\n",
        "\n",
        "La palabra cuantil viene de la palabra cantidad. En terminos simples, un cuantil es cuando se divide al conjunto de datos en subgrupos adyascentes de igual tamaño. Especificamente, los cuantiles reciben diferentes nombres en función de la cantidad de partes en que se divide a los datos. Por ejemplo cuando se divide a los datos en 100 partes iguales, los cuantiles se denominan **percentiles** y se identifican con la notación $P_j$ (con 0 < j < 1) y cuando la división es en 4 partes se llaman **Cuartiles** y se identifican con $Q_k$ (k=1,2,3)\n",
        "\n",
        "Hay varios métodos para el cálculo de los cuantiles (investigar el artículo que recomienda R).\n",
        "\n",
        "En R, el método dos consiste en:\n",
        "\n",
        "1. Ordenar datos\n",
        "2. Calcular n*j\n",
        "  * Si nj es no es entero, entonces, redondear nj al entero inmediato posterior $P_j=X_{nj+1}$.\n",
        "\n",
        "  * Si nj es entero, entonces, $P_j = \\frac {1}{2}(X_{nj}+X_{nj+1})$\n"
      ]
    },
    {
      "cell_type": "code",
      "metadata": {
        "id": "NCygjBumwqsf"
      },
      "source": [
        "# ver los argumentos de quantile\n",
        "\n",
        "# calcular el percentil 25% de las dos variables\n",
        "\n",
        "# calcular los percentiles 25% y 75%\n",
        "\n",
        "# calcular los percentiles 25%, 50% y 75%\n",
        "\n",
        "# use apply\n",
        "\n"
      ],
      "execution_count": null,
      "outputs": []
    },
    {
      "cell_type": "markdown",
      "metadata": {
        "id": "e4WoqE1jSYyw"
      },
      "source": [
        "Hay ocasiones en las que nos interesa saber cual es el percentil que representa un valor, es decir, el caso contrario al cálculo de percentiles.\n",
        "\n",
        "Se usa la función Empirical Cumulative Distribution Function\n",
        ":\n",
        "\n",
        "```\n",
        "ecdf(vector)\n",
        "```"
      ]
    },
    {
      "cell_type": "markdown",
      "metadata": {
        "id": "N5m_QNsBSlvX"
      },
      "source": [
        "#The Empirical Cumulative Distribution Function\n",
        "\n",
        "La [función de distribución acumulada empírica](\n",
        "https://bjlkeng.github.io/posts/the-empirical-distribution-function/) $F(x)$ se define como la distribución discreta que asigna probabilidad $1/n$ a cada valor $x_i$ tal que $i = 1, 2, . . . , n$.\n",
        "\n",
        "$$F(x) = \\frac {Número\\:de\\:elementos\\:de\\:la\\:muestra\\: ≤\\: x}{n}\n",
        "= \\frac {1}{n} \\ \\sum​_{i=1}^{n} I(x_i ≤ x)$$\n",
        "\n",
        "donde $I(x_i ≤ x)$ es la función indicadora.\n"
      ]
    },
    {
      "cell_type": "code",
      "metadata": {
        "colab": {
          "base_uri": "https://localhost:8080/",
          "height": 437
        },
        "id": "wZf3etEOX8WA",
        "outputId": "1b10adc2-2129-4eb7-fb83-3fb25fb9bb97"
      },
      "source": [
        "# constuya la ECDF de las siguientes estaturas\n",
        "# 1.67,1.68,1.71,1.74,1.78,1.70\n",
        "\n",
        "estaturas <- c(1.67,1.68,1.71,1.74,1.78,1.70)\n",
        "\n",
        "frecuencias <- table(sort(estaturas))/length(estaturas)\n",
        "\n",
        "plot(names(frecuencias),cumsum(frecuencias),pch=16)\n",
        "segments(x0 = 1.67, y0 = 1/6, x1 = 1.68, y1 = 1/6)\n",
        "\n"
      ],
      "execution_count": 3,
      "outputs": [
        {
          "output_type": "display_data",
          "data": {
            "image/png": "[encoded data removed]",
            "text/plain": [
              "plot without title"
            ]
          },
          "metadata": {
            "tags": [],
            "image/png": {
              "width": 420,
              "height": 420
            }
          }
        }
      ]
    },
    {
      "cell_type": "code",
      "metadata": {
        "colab": {
          "base_uri": "https://localhost:8080/",
          "height": 437
        },
        "id": "Sske1t5kgFYd",
        "outputId": "bc902b97-45b7-467a-cb10-3a056e2dd4a8"
      },
      "source": [
        "plot(ecdf(estaturas))"
      ],
      "execution_count": 2,
      "outputs": [
        {
          "output_type": "display_data",
          "data": {
            "image/png": "[encoded data removed]",
            "text/plain": [
              "Plot with title “ecdf(estaturas)”"
            ]
          },
          "metadata": {
            "tags": [],
            "image/png": {
              "width": 420,
              "height": 420
            }
          }
        }
      ]
    },
    {
      "cell_type": "code",
      "metadata": {
        "id": "c2NaMqYGV_80"
      },
      "source": [
        "# consulte la ayuda sobre ecdf \n"
      ],
      "execution_count": null,
      "outputs": []
    },
    {
      "cell_type": "code",
      "metadata": {
        "id": "ep9K9-2BS11e"
      },
      "source": [
        "# el tiempo 4 min que percentil representa en los tiempos de exhalaciones\n",
        "\n",
        "# ¿qué percentiles representan los valores 4.45425 y 2.16275\n"
      ],
      "execution_count": null,
      "outputs": []
    },
    {
      "cell_type": "code",
      "metadata": {
        "id": "WLP5ZwRZy1BB"
      },
      "source": [
        "# grafique los percentiles \n",
        "\n",
        "# agregue titulo, una etiqueta en x y otra en y\n",
        "\n",
        "\n",
        "\n",
        "# agregue linesas horizontales y verticales en la mediana\n",
        "\n"
      ],
      "execution_count": null,
      "outputs": []
    },
    {
      "cell_type": "markdown",
      "metadata": {
        "id": "4k8MRdEBXez3"
      },
      "source": [
        "Existen algunas funciones en el sistema base y en paquetes que se istalan para facilitar los cálculos de las medida de localización."
      ]
    },
    {
      "cell_type": "code",
      "metadata": {
        "id": "aRHsNl6qWEqP"
      },
      "source": [
        "# Los 5 números de Tukey min,P.25,P.50,P.75,max\n",
        "\n",
        "\n",
        "# Resúmen\n",
        "\n",
        "# ya solo restaría agregar los percentiles\n",
        "\n",
        "# ¿qué ocurre si usamos summary con el argumento faithful"
      ],
      "execution_count": null,
      "outputs": []
    },
    {
      "cell_type": "code",
      "metadata": {
        "id": "bO89qFFd8WUP"
      },
      "source": [
        "# que tal si lo hacemos un resumen completo usando apply !!!!!!\n",
        "\n"
      ],
      "execution_count": null,
      "outputs": []
    },
    {
      "cell_type": "code",
      "metadata": {
        "id": "BeRyc4TFY3dA"
      },
      "source": [
        "# escriba el resúmen en un documento csv de excel\n",
        "\n"
      ],
      "execution_count": null,
      "outputs": []
    },
    {
      "cell_type": "markdown",
      "metadata": {
        "id": "5IijaErraBZA"
      },
      "source": [
        "### Función attach\n",
        "\n",
        "Permite adjuntar las columnas del dataframe de datos en el ambiente de trabajo de R y poder acceder a ellos de una manera más fácil para realizar operaciones."
      ]
    },
    {
      "cell_type": "code",
      "metadata": {
        "id": "9NoFx6LOIrIx"
      },
      "source": [
        "# adjunte los datos de faithful\n",
        "\n",
        "\n"
      ],
      "execution_count": null,
      "outputs": []
    },
    {
      "cell_type": "code",
      "metadata": {
        "id": "kYu_LCOjZ0iF"
      },
      "source": [
        "# una vez adjuntados calcular la media de eruptions y waiting\n",
        "\n",
        "\n",
        "\n"
      ],
      "execution_count": null,
      "outputs": []
    },
    {
      "cell_type": "code",
      "metadata": {
        "id": "YXx0HEKTjrgI"
      },
      "source": [
        "#usar el dataframe de alumnos para realizar analisis de localización \n",
        "\n",
        "# leer documento\n",
        "\n",
        "\n",
        "\n"
      ],
      "execution_count": null,
      "outputs": []
    },
    {
      "cell_type": "code",
      "metadata": {
        "id": "pUsT_AAkggrZ"
      },
      "source": [
        "# Hacer resumen de calificaciones de materias\n",
        "\n"
      ],
      "execution_count": null,
      "outputs": []
    },
    {
      "cell_type": "code",
      "metadata": {
        "id": "U0SfKFBYgl7m"
      },
      "source": [
        "# Hacer resumen de calificaciones por alumno\n"
      ],
      "execution_count": null,
      "outputs": []
    },
    {
      "cell_type": "markdown",
      "metadata": {
        "id": "HjpjcPPVcY0u"
      },
      "source": [
        "## ¿Qué hacer con las medidas no numéricas?\n",
        "\n",
        "Muy simple, calcular la moda, hacer tablas y a partir de éstas calcular proporciones. Tambien es recomendable hacer gráficos de barras o pastel."
      ]
    },
    {
      "cell_type": "code",
      "metadata": {
        "id": "HIrSmHjPZ3bU"
      },
      "source": [
        ""
      ],
      "execution_count": null,
      "outputs": []
    }
  ]
}