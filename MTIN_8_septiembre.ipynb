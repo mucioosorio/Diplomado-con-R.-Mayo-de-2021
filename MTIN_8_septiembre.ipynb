{
  "nbformat": 4,
  "nbformat_minor": 0,
  "metadata": {
    "colab": {
      "name": "MTIN_8_septiembre.ipynb",
      "provenance": [],
      "collapsed_sections": []
    },
    "kernelspec": {
      "name": "ir",
      "display_name": "R"
    },
    "language_info": {
      "name": "R"
    }
  },
  "cells": [
    {
      "cell_type": "markdown",
      "metadata": {
        "id": "ASRrTqr6ZW3k"
      },
      "source": [
        "![](https://github.com/mucioosorio/Diplomado-con-R.-Mayo-de-2021/blob/main/itson.PNG?raw=true)\n",
        "\n",
        "\n",
        "\n",
        "\n",
        "\n",
        "\n",
        "\n",
        "\n",
        "\n",
        "\n"
      ]
    },
    {
      "cell_type": "markdown",
      "metadata": {
        "id": "0I0itfx_iMP1"
      },
      "source": [
        "# ¿Qué es R?\n",
        "\n",
        "***R*** es un lenguaje de programación usado para realizar análisis estadísticos y visualización de datos. Fue creado, en 1992, por Robert Gentleman y Ross Ihaka de la Universidad de Auckland. En 1995 el código fuente de R está disponible bajo licencia GNU GPL para sistemas operativos Windows, Macintosh y distribuciones Unix/Linux. [R-bloggers](https://www.r-bloggers.com/2018/08/r-generation-25-years-of-r/)\n"
      ]
    },
    {
      "cell_type": "markdown",
      "metadata": {
        "id": "QFcNsJ7VTxJ2"
      },
      "source": [
        "# ¿ Por qué R?\n",
        "\n",
        "Es software libre, muy versátil al ser un lenguaje de programación y su uso en la comunidad académica y científica ha crecido enormemente, tanto así que ha desplazado a software propietario como SAS, Minitab, SPSS y otros. \n",
        "\n",
        "## Desventajas al usar R\n",
        "\n",
        "1. Lenguaje de programación en línea de comando.\n",
        "2. Curva de aprendizaje pronunciada.\n",
        "\n",
        "## Ventajas\n",
        "\n",
        "1. Software libre y gratuito.\n",
        "* GNU GPL: Libertad de ejecutar el programa como desee y con cualquier propósito, libertad de estudiar el funcionamiento del programa y adaptarlo a sus necesidades, libertad de reescribir copias para ayudar a los demás y libertad de manejar el programa y publicar las mejorar, de manera que toda comunidad se beneficie.\n",
        "2. Multiplataforma (Mac, Windows y Linux)\n",
        "3. Código abierto. Existe una gran comunidad de\n",
        "trabajando para mejorarlo.\n",
        "4. Actualización constante.\n",
        "5. Vasta documentación\n",
        "6. Estándar en la sociedad científica y académica \n",
        "5. Sistemas de graficación de gran calidad (sistema base, ggplot2, Lattice )\n",
        "6. Uso de paquetes \n",
        "7. Entornos de desarrollo y aplicaciones (RStudio, Jupyter, Google Colab, RCommander)\n",
        "8. Desarrollo de actividades apropiadas para el aprendizaje de la Estadística.\n",
        "\n",
        "\n"
      ]
    },
    {
      "cell_type": "markdown",
      "metadata": {
        "id": "lrwgSsRKko7b"
      },
      "source": [
        "## Descargas\n",
        "\n",
        "1. [https://www.r-project.org/](https://www.r-project.org/)\n",
        "2. [https://www.rstudio.com/products/rstudio/download/](https://www.rstudio.com/products/rstudio/download/)"
      ]
    },
    {
      "cell_type": "markdown",
      "metadata": {
        "id": "IFKmlSID2_mk"
      },
      "source": [
        "# Sitios\n",
        "\n",
        "[RStudio Cheatsheets](https://www.rstudio.com/resources/cheatsheets/) \n",
        "\n",
        "[R for Beginners](https://cran.r-project.org/doc/contrib/Paradis-rdebuts_en.pdf)\n",
        "\n",
        "[R Documentation](https://www.rdocumentation.org/)"
      ]
    },
    {
      "cell_type": "markdown",
      "metadata": {
        "id": "MiCfWMahyFu-"
      },
      "source": [
        "## R como una calculadora.\n",
        "\n",
        "Uno de los primeros pasos para poder dominar R es comprender su uso como calculadora. R realiza operaciones matemáticas y lógicas muy avanzadas. \n",
        "\n",
        "## Operaciones básicas\n",
        "Los símbolos usados para realizar las operaciones básicas en R:\n",
        "\n",
        "| Operación    |  Simbolo | \n",
        "|:-------------|:--------:|\n",
        "|Suma          | +        | \n",
        "|Resta         | -        |\n",
        "|Multiplicación| *        |\n",
        "|División      |/         |\n",
        "|Potencia      |^         |\n",
        "|Cociente      | %/%      |\n",
        "|Residuo       |%%        |\n",
        "|Logaritmo natural|log()  |\n",
        "|Logaritmo base 10|log10()|\n",
        "|Raíz cuadrada  |sqrt()   |\n",
        "|   $e^x$       |exp()    |\n",
        "\n",
        "## Simbolos de comparación\n",
        "Cuando se realizan análisis estadísticos será muy útil realizar pruebas lógicas, por ejemplo cuando requiere seleccionar parte de los datos en el análisis.\n",
        "\n",
        "| Operación    |  Simbolo | \n",
        "|:-------------|:--------:|\n",
        "|Menor que     | <        | \n",
        "|Mayor que     | >        |\n",
        "|Igual que     | ==       |\n",
        "|Menor o igual |<=        |\n",
        "|Mayor o igual |>=        |\n",
        "\n",
        "## Operadores lógicos\n",
        "\n",
        "| Operación    |  Simbolo | \n",
        "|:-------------|:--------:|\n",
        "|Negación      | !        | \n",
        "|and           | &        |\n",
        "|o             | $|$      |\n",
        "\n",
        "\n"
      ]
    },
    {
      "cell_type": "markdown",
      "metadata": {
        "id": "wbRhDzeM4Gm4"
      },
      "source": [
        "## Directorio de trabajo\n",
        "\n",
        "El directorio o carpeta de trabajo es el lugar en la computadora en el que se encuentran los archivos con los que estamos trabajando en R. Este es el lugar donde R buscara archivos para importarlos y al que serán exportados, a menos que se indique otra cosa.\n",
        "\n",
        "Para saber cuál es el directorio de trabajo se usa la función ```getwd()```. Sólo se tiene que escribir la función en la consola y ejecutarla. De manera predeterminada RStudio y R usan la carpeta de **Mis Documentos** como el directorio de trabajo."
      ]
    },
    {
      "cell_type": "markdown",
      "metadata": {
        "id": "FlBxOlXZ0OGq"
      },
      "source": [
        "## Ambiente global.\n",
        "\n",
        "Antes de iniciar, es importante saber que cuando iniciamos una sesión en R, el sistema de R crea un nuevo ambiente para objetos creados durante la sesión este ambiente de se llama ambiente global."
      ]
    },
    {
      "cell_type": "markdown",
      "metadata": {
        "id": "7xxKhH76OKKn"
      },
      "source": [
        "Para  saber que objetos se encuentran en nuestro ambiente de trabajo se usa la función [ls()](https://www.rdocumentation.org/packages/base/versions/3.6.2/topics/ls). Si requiere borrar un elemento del ambiente de trabajo solo use ```rm(objeto)```."
      ]
    }
  ]
}