{
  "nbformat": 4,
  "nbformat_minor": 0,
  "metadata": {
    "colab": {
      "name": "MTIN_8_septiembre.ipynb",
      "provenance": [],
      "collapsed_sections": []
    },
    "kernelspec": {
      "name": "ir",
      "display_name": "R"
    },
    "language_info": {
      "name": "R"
    }
  },
  "cells": [
    {
      "cell_type": "markdown",
      "metadata": {
        "id": "ASRrTqr6ZW3k"
      },
      "source": [
        "![](https://github.com/mucioosorio/Diplomado-con-R.-Mayo-de-2021/blob/main/itson.PNG?raw=true)\n",
        "\n",
        "\n",
        "\n",
        "\n",
        "\n",
        "\n",
        "\n",
        "\n",
        "\n",
        "\n"
      ]
    },
    {
      "cell_type": "markdown",
      "metadata": {
        "id": "0I0itfx_iMP1"
      },
      "source": [
        "# ¿Qué es R?\n",
        "\n",
        "***R*** es un lenguaje de programación usado para realizar análisis estadísticos y visualización de datos. Fue creado, en 1992, por Robert Gentleman y Ross Ihaka de la Universidad de Auckland. En 1995 el código fuente de R está disponible bajo licencia GNU GPL para sistemas operativos Windows, Macintosh y distribuciones Unix/Linux. [R-bloggers](https://www.r-bloggers.com/2018/08/r-generation-25-years-of-r/)\n"
      ]
    },
    {
      "cell_type": "markdown",
      "metadata": {
        "id": "QFcNsJ7VTxJ2"
      },
      "source": [
        "# ¿ Por qué R?\n",
        "\n",
        "Es software libre, muy versátil al ser un lenguaje de programación y su uso en la comunidad académica y científica ha crecido enormemente, tanto así que ha desplazado a software propietario como SAS, Minitab, SPSS y otros. \n",
        "\n",
        "## Desventajas al usar R\n",
        "\n",
        "1. Lenguaje de programación en línea de comando.\n",
        "2. Curva de aprendizaje pronunciada.\n",
        "\n",
        "## Ventajas\n",
        "\n",
        "1. Software libre y gratuito.\n",
        "* GNU GPL: Libertad de ejecutar el programa como desee y con cualquier propósito, libertad de estudiar el funcionamiento del programa y adaptarlo a sus necesidades, libertad de reescribir copias para ayudar a los demás y libertad de manejar el programa y publicar las mejorar, de manera que toda comunidad se beneficie.\n",
        "2. Multiplataforma (Mac, Windows y Linux)\n",
        "3. Código abierto. Existe una gran comunidad de\n",
        "trabajando para mejorarlo.\n",
        "4. Actualización constante.\n",
        "5. Vasta documentación\n",
        "6. Estándar en la sociedad científica y académica \n",
        "5. Sistemas de graficación de gran calidad (sistema base, ggplot2, Lattice )\n",
        "6. Uso de paquetes \n",
        "7. Entornos de desarrollo y aplicaciones (RStudio, Jupyter, Google Colab, RCommander)\n",
        "8. Desarrollo de actividades apropiadas para el aprendizaje de la Estadística.\n",
        "\n",
        "\n"
      ]
    },
    {
      "cell_type": "markdown",
      "metadata": {
        "id": "wv2_ckrzzTFZ"
      },
      "source": [
        "Para la ayuda de R\n",
        "\n",
        "help(mean)"
      ]
    },
    {
      "cell_type": "markdown",
      "metadata": {
        "id": "IFKmlSID2_mk"
      },
      "source": [
        "# Sitios\n",
        "\n",
        "[RStudio Cheatsheets](https://www.rstudio.com/resources/cheatsheets/) \n",
        "\n",
        "[R for Beginners](https://cran.r-project.org/doc/contrib/Paradis-rdebuts_en.pdf)\n",
        "\n",
        "[R Documentation](https://www.rdocumentation.org/)"
      ]
    },
    {
      "cell_type": "markdown",
      "metadata": {
        "id": "MiCfWMahyFu-"
      },
      "source": [
        "## R como una calculadora.\n",
        "\n",
        "Uno de los primeros pasos para poder dominar R es comprender su uso como calculadora. R realiza operaciones matemáticas y lógicas muy avanzadas. \n",
        "\n",
        "## Operaciones básicas\n",
        "Los símbolos usados para realizar las operaciones básicas en R:\n",
        "\n",
        "| Operación    |  Simbolo | \n",
        "|:-------------|:--------:|\n",
        "|Suma          | +        | \n",
        "|Resta         | -        |\n",
        "|Multiplicación| *        |\n",
        "|División      |/         |\n",
        "|Potencia      |^         |\n",
        "|Cociente      | %/%      |\n",
        "|Residuo       |%%        |\n",
        "|Logaritmo natural|log()  |\n",
        "|Logaritmo base 10|log10()|\n",
        "|Raíz cuadrada  |sqrt()   |\n",
        "|   $e^x$       |exp()    |\n",
        "\n",
        "## Simbolos de comparación\n",
        "Cuando se realizan análisis estadísticos será muy útil realizar pruebas lógicas, por ejemplo cuando requiere seleccionar parte de los datos en el análisis.\n",
        "\n",
        "| Operación    |  Simbolo | \n",
        "|:-------------|:--------:|\n",
        "|Menor que     | <        | \n",
        "|Mayor que     | >        |\n",
        "|Igual que     | ==       |\n",
        "|Menor o igual |<=        |\n",
        "|Mayor o igual |>=        |\n",
        "\n",
        "## Operadores lógicos\n",
        "\n",
        "| Operación    |  Simbolo | \n",
        "|:-------------|:--------:|\n",
        "|Negación      | !        | \n",
        "|and           | &        |\n",
        "|o             | $|$      |\n",
        "\n",
        "\n"
      ]
    },
    {
      "cell_type": "markdown",
      "metadata": {
        "id": "h1I-W1a_MHFN"
      },
      "source": [
        ""
      ]
    },
    {
      "cell_type": "markdown",
      "metadata": {
        "id": "Yvw0CAAbfXOW"
      },
      "source": [
        "## Los primeros cálculos en R\n",
        "\n",
        "1. calcula el área de un triángulo cuya base es 10m y con altura 20m\n",
        "\n"
      ]
    },
    {
      "cell_type": "code",
      "metadata": {
        "colab": {
          "base_uri": "https://localhost:8080/",
          "height": 34
        },
        "id": "pvcB_-HaP-9A",
        "outputId": "e94659e5-b4ef-4604-b0a6-a564361aec91"
      },
      "source": [
        "# Calcular el área. El simbolo # en R es un comentario\n",
        "10*20/2\n",
        "\n"
      ],
      "execution_count": null,
      "outputs": [
        {
          "output_type": "display_data",
          "data": {
            "text/plain": [
              "[1] 100"
            ],
            "text/latex": "100",
            "text/markdown": "100",
            "text/html": [
              "100"
            ]
          },
          "metadata": {
            "tags": []
          }
        }
      ]
    },
    {
      "cell_type": "markdown",
      "metadata": {
        "id": "DleUin7Ifzf0"
      },
      "source": [
        "2. Use la reglade Sturges para saber cuántas clases debe haber en un histograma cuando se dispone de una muestra de 150.\n",
        "\n",
        "\n",
        "\n"
      ]
    },
    {
      "cell_type": "code",
      "metadata": {
        "colab": {
          "base_uri": "https://localhost:8080/",
          "height": 67
        },
        "id": "ujBLyXhagPrR",
        "outputId": "9270adca-adb3-47e7-b76d-2e5660cb3632"
      },
      "source": [
        "# Regla de Sturges 1+3.3log(n)\n",
        "1+3.3*log10(150)\n",
        "\n",
        "# como calcular logaritmos en otras bases\n",
        "# log(n,base)\n",
        "# el logaritmo base 2 de 10\n",
        "\n",
        "log(10,2)\n",
        "\n",
        "# regla de sturges\n",
        "1+3.3*log(150,10)\n"
      ],
      "execution_count": null,
      "outputs": [
        {
          "output_type": "display_data",
          "data": {
            "text/plain": [
              "[1] 8.181101"
            ],
            "text/latex": "8.18110115488375",
            "text/markdown": "8.18110115488375",
            "text/html": [
              "8.18110115488375"
            ]
          },
          "metadata": {
            "tags": []
          }
        },
        {
          "output_type": "display_data",
          "data": {
            "text/plain": [
              "[1] 3.321928"
            ],
            "text/latex": "3.32192809488736",
            "text/markdown": "3.32192809488736",
            "text/html": [
              "3.32192809488736"
            ]
          },
          "metadata": {
            "tags": []
          }
        },
        {
          "output_type": "display_data",
          "data": {
            "text/plain": [
              "[1] 8.181101"
            ],
            "text/latex": "8.18110115488375",
            "text/markdown": "8.18110115488375",
            "text/html": [
              "8.18110115488375"
            ]
          },
          "metadata": {
            "tags": []
          }
        }
      ]
    },
    {
      "cell_type": "markdown",
      "metadata": {
        "id": "cNZMQuwDOmCJ"
      },
      "source": [
        ""
      ]
    },
    {
      "cell_type": "markdown",
      "metadata": {
        "id": "88Z41cJmgH2B"
      },
      "source": [
        "3. calcular el tamaño de muestra para estimar a un promedio población cuando la confianza es 95%, el error es 5 y la desviación estándar de la muestra es 10.\n"
      ]
    },
    {
      "cell_type": "code",
      "metadata": {
        "colab": {
          "base_uri": "https://localhost:8080/",
          "height": 50
        },
        "id": "M2B5Hr6_g-bi",
        "outputId": "d0208fbb-80c1-44af-a1c2-f09a3043d8ee"
      },
      "source": [
        "# tamaño de muestra \n",
        "# n = (Z*S / E)^2\n",
        "# n = tamaño de muestra\n",
        "# Z valor de tablas de la distribución normal\n",
        "\n",
        "(1.96*10/5)^2\n",
        "\n",
        "# para redondear se usa round(numero,decimales)\n",
        "round((1.96*10/5)^2,0)\n"
      ],
      "execution_count": null,
      "outputs": [
        {
          "output_type": "display_data",
          "data": {
            "text/plain": [
              "[1] 15.3664"
            ],
            "text/latex": "15.3664",
            "text/markdown": "15.3664",
            "text/html": [
              "15.3664"
            ]
          },
          "metadata": {
            "tags": []
          }
        },
        {
          "output_type": "display_data",
          "data": {
            "text/plain": [
              "[1] 15"
            ],
            "text/latex": "15",
            "text/markdown": "15",
            "text/html": [
              "15"
            ]
          },
          "metadata": {
            "tags": []
          }
        }
      ]
    },
    {
      "cell_type": "markdown",
      "metadata": {
        "id": "M3OrUfv8hulX"
      },
      "source": [
        "5. ¿Cuál es la parte entera del promedio de estaturas? La suma de 3 estaturas es 5.1 m.\n"
      ]
    },
    {
      "cell_type": "code",
      "metadata": {
        "colab": {
          "base_uri": "https://localhost:8080/",
          "height": 50
        },
        "id": "MB03RhHZx7T5",
        "outputId": "601f7730-2007-47fb-f7d9-dbdf9d2c0f59"
      },
      "source": [
        "# parte entera del promedio  \n",
        "5.1%/%3\n",
        "\n",
        "# el promedio\n",
        "5.1/3\n"
      ],
      "execution_count": null,
      "outputs": [
        {
          "output_type": "display_data",
          "data": {
            "text/plain": [
              "[1] 1"
            ],
            "text/latex": "1",
            "text/markdown": "1",
            "text/html": [
              "1"
            ]
          },
          "metadata": {
            "tags": []
          }
        },
        {
          "output_type": "display_data",
          "data": {
            "text/plain": [
              "[1] 1.7"
            ],
            "text/latex": "1.7",
            "text/markdown": "1.7",
            "text/html": [
              "1.7"
            ]
          },
          "metadata": {
            "tags": []
          }
        }
      ]
    },
    {
      "cell_type": "markdown",
      "metadata": {
        "id": "iAXLgNUeiPN3"
      },
      "source": [
        "6. Si una muestra de 3 personas tienen 11 hermanos en total ¿Cuál es el resto o residuo del promedio de la cantidad de hermanos?"
      ]
    },
    {
      "cell_type": "code",
      "metadata": {
        "colab": {
          "base_uri": "https://localhost:8080/",
          "height": 50
        },
        "id": "aPiupDBhieQw",
        "outputId": "87566ad6-5cd8-4ee3-bb5e-48434962b3de"
      },
      "source": [
        "# promedio\n",
        "11/3\n",
        "\n",
        "# residuo\n",
        "11%%3\n"
      ],
      "execution_count": null,
      "outputs": [
        {
          "output_type": "display_data",
          "data": {
            "text/plain": [
              "[1] 3.666667"
            ],
            "text/latex": "3.66666666666667",
            "text/markdown": "3.66666666666667",
            "text/html": [
              "3.66666666666667"
            ]
          },
          "metadata": {
            "tags": []
          }
        },
        {
          "output_type": "display_data",
          "data": {
            "text/plain": [
              "[1] 2"
            ],
            "text/latex": "2",
            "text/markdown": "2",
            "text/html": [
              "2"
            ]
          },
          "metadata": {
            "tags": []
          }
        }
      ]
    },
    {
      "cell_type": "markdown",
      "metadata": {
        "id": "x-4bbJMFjCHg"
      },
      "source": [
        "7. Se tienen las estaturas promedio de hombres y mujeres.\n",
        "\n",
        "Promedio de hombres = 1.7 m\n",
        "\n",
        "promedio de mujeres = 1.68 m\n",
        "\n",
        "Use los simbolos de comparación en las estaturas de mujeres vs la de hombres. \n"
      ]
    },
    {
      "cell_type": "code",
      "metadata": {
        "colab": {
          "base_uri": "https://localhost:8080/",
          "height": 101
        },
        "id": "IJqMF-T5kSXM",
        "outputId": "80e9787d-efc6-4748-aa05-5349aada9b05"
      },
      "source": [
        "1.68 < 1.70\n",
        "1.68 > 1.70\n",
        "1.68 >= 1.70\n",
        "1.68 <= 1.70\n",
        "1.68 == 1.70"
      ],
      "execution_count": null,
      "outputs": [
        {
          "output_type": "display_data",
          "data": {
            "text/plain": [
              "[1] TRUE"
            ],
            "text/latex": "TRUE",
            "text/markdown": "TRUE",
            "text/html": [
              "TRUE"
            ]
          },
          "metadata": {
            "tags": []
          }
        },
        {
          "output_type": "display_data",
          "data": {
            "text/plain": [
              "[1] FALSE"
            ],
            "text/latex": "FALSE",
            "text/markdown": "FALSE",
            "text/html": [
              "FALSE"
            ]
          },
          "metadata": {
            "tags": []
          }
        },
        {
          "output_type": "display_data",
          "data": {
            "text/plain": [
              "[1] FALSE"
            ],
            "text/latex": "FALSE",
            "text/markdown": "FALSE",
            "text/html": [
              "FALSE"
            ]
          },
          "metadata": {
            "tags": []
          }
        },
        {
          "output_type": "display_data",
          "data": {
            "text/plain": [
              "[1] TRUE"
            ],
            "text/latex": "TRUE",
            "text/markdown": "TRUE",
            "text/html": [
              "TRUE"
            ]
          },
          "metadata": {
            "tags": []
          }
        },
        {
          "output_type": "display_data",
          "data": {
            "text/plain": [
              "[1] FALSE"
            ],
            "text/latex": "FALSE",
            "text/markdown": "FALSE",
            "text/html": [
              "FALSE"
            ]
          },
          "metadata": {
            "tags": []
          }
        }
      ]
    },
    {
      "cell_type": "markdown",
      "metadata": {
        "id": "Lnn3-ihuge9y"
      },
      "source": [
        "8. USe los operadores para realizar las siguientes comparaciones"
      ]
    },
    {
      "cell_type": "code",
      "metadata": {
        "colab": {
          "base_uri": "https://localhost:8080/",
          "height": 67
        },
        "id": "c1aMRCIBgeQN",
        "outputId": "b6a95847-eb55-4960-ac60-012150079bb6"
      },
      "source": [
        "# Es 10 menor que 12 o mayor que 3\n",
        "\n",
        "10 < 12 | 10 > 3\n",
        "\n",
        "# Es 5 menor que 9 pero mayor o igual que 6\n",
        "\n",
        "5 < 9 & 5 >= 6\n",
        "\n",
        "# Es 5 distinto de 8\n",
        "\n",
        "5 != 8"
      ],
      "execution_count": null,
      "outputs": [
        {
          "output_type": "display_data",
          "data": {
            "text/plain": [
              "[1] TRUE"
            ],
            "text/latex": "TRUE",
            "text/markdown": "TRUE",
            "text/html": [
              "TRUE"
            ]
          },
          "metadata": {
            "tags": []
          }
        },
        {
          "output_type": "display_data",
          "data": {
            "text/plain": [
              "[1] FALSE"
            ],
            "text/latex": "FALSE",
            "text/markdown": "FALSE",
            "text/html": [
              "FALSE"
            ]
          },
          "metadata": {
            "tags": []
          }
        },
        {
          "output_type": "display_data",
          "data": {
            "text/plain": [
              "[1] TRUE"
            ],
            "text/latex": "TRUE",
            "text/markdown": "TRUE",
            "text/html": [
              "TRUE"
            ]
          },
          "metadata": {
            "tags": []
          }
        }
      ]
    },
    {
      "cell_type": "markdown",
      "metadata": {
        "id": "qXjoVodFh0C1"
      },
      "source": [
        "9. Si el logaritmo natural de x es 3.2188758248682 ¿Cuál es el valor de x?"
      ]
    },
    {
      "cell_type": "code",
      "metadata": {
        "colab": {
          "base_uri": "https://localhost:8080/",
          "height": 50
        },
        "id": "atWcSpxdiCn5",
        "outputId": "6135d896-2adc-4dc9-ad56-7df99b393137"
      },
      "source": [
        "# el valor de x es\n",
        "exp(3.2188758248682)\n",
        "\n",
        "# el logaritmo natural de 25\n",
        "\n",
        "log(25)"
      ],
      "execution_count": null,
      "outputs": [
        {
          "output_type": "display_data",
          "data": {
            "text/plain": [
              "[1] 25"
            ],
            "text/latex": "25",
            "text/markdown": "25",
            "text/html": [
              "25"
            ]
          },
          "metadata": {
            "tags": []
          }
        },
        {
          "output_type": "display_data",
          "data": {
            "text/plain": [
              "[1] 3.218876"
            ],
            "text/latex": "3.2188758248682",
            "text/markdown": "3.2188758248682",
            "text/html": [
              "3.2188758248682"
            ]
          },
          "metadata": {
            "tags": []
          }
        }
      ]
    },
    {
      "cell_type": "markdown",
      "metadata": {
        "id": "wbRhDzeM4Gm4"
      },
      "source": [
        "## Directorio de trabajo\n",
        "\n",
        "El directorio o carpeta de trabajo es el lugar en la computadora en el que se encuentran los archivos con los que estamos trabajando en R. Este es el lugar donde R buscara archivos para importarlos y al que serán exportados, a menos que se indique otra cosa.\n",
        "\n",
        "Para saber cuál es el directorio de trabajo se usa la función ```getwd()```. Sólo se tiene que escribir la función en la consola y ejecutarla. De manera predeterminada RStudio y R usan la carpeta de **Mis Documentos** como el directorio de trabajo."
      ]
    },
    {
      "cell_type": "code",
      "metadata": {
        "colab": {
          "base_uri": "https://localhost:8080/",
          "height": 34
        },
        "id": "a9NpDSHR4dZ7",
        "outputId": "a47ba6db-5992-436d-97e0-045be34317dc"
      },
      "source": [
        "# ejecuta la función getwd()\n",
        "getwd()\n",
        "\n",
        "# Puedes cambiar el directorio de trabajo usando la función setwd(), dando como argumento la ruta del directorio que quieres usar.\n",
        "\n",
        "#setwd(\"C:\\otro_directorio\")   # la usaremos en RStudio."
      ],
      "execution_count": null,
      "outputs": [
        {
          "output_type": "display_data",
          "data": {
            "text/plain": [
              "[1] \"/content\""
            ],
            "text/latex": "'/content'",
            "text/markdown": "'/content'",
            "text/html": [
              "'/content'"
            ]
          },
          "metadata": {
            "tags": []
          }
        }
      ]
    },
    {
      "cell_type": "markdown",
      "metadata": {
        "id": "FlBxOlXZ0OGq"
      },
      "source": [
        "## Ambiente global.\n",
        "\n",
        "Antes de iniciar, es importante saber que cuando iniciamos una sesión en R, el sistema de R crea un nuevo ambiente para objetos creados durante la sesión este ambiente de se llama ambiente global."
      ]
    },
    {
      "cell_type": "markdown",
      "metadata": {
        "id": "7xxKhH76OKKn"
      },
      "source": [
        "Para  saber que objetos se encuentran en nuestro ambiente de trabajo se usa la función [ls()](https://www.rdocumentation.org/packages/base/versions/3.6.2/topics/ls). Si requiere borrar un elemento del ambiente de trabajo solo use ```rm(objeto)```."
      ]
    },
    {
      "cell_type": "code",
      "metadata": {
        "colab": {
          "base_uri": "https://localhost:8080/",
          "height": 34
        },
        "id": "b2AO19mB5QGF",
        "outputId": "35b0fb73-f0c1-413b-913a-8c9b1a2d717f"
      },
      "source": [
        "# Usa ls() para saber que objetos hay en el ambiente global\n",
        "ls()"
      ],
      "execution_count": null,
      "outputs": [
        {
          "output_type": "display_data",
          "data": {
            "text/plain": [
              " [1] \"a\"         \"edad\"      \"ejercicio\" \"genero\"    \"s\"         \"vector\"   \n",
              " [7] \"w\"         \"x\"         \"y\"         \"z\"        "
            ],
            "text/latex": "\\begin{enumerate*}\n\\item 'a'\n\\item 'edad'\n\\item 'ejercicio'\n\\item 'genero'\n\\item 's'\n\\item 'vector'\n\\item 'w'\n\\item 'x'\n\\item 'y'\n\\item 'z'\n\\end{enumerate*}\n",
            "text/markdown": "1. 'a'\n2. 'edad'\n3. 'ejercicio'\n4. 'genero'\n5. 's'\n6. 'vector'\n7. 'w'\n8. 'x'\n9. 'y'\n10. 'z'\n\n\n",
            "text/html": [
              "<style>\n",
              ".list-inline {list-style: none; margin:0; padding: 0}\n",
              ".list-inline>li {display: inline-block}\n",
              ".list-inline>li:not(:last-child)::after {content: \"\\00b7\"; padding: 0 .5ex}\n",
              "</style>\n",
              "<ol class=list-inline><li>'a'</li><li>'edad'</li><li>'ejercicio'</li><li>'genero'</li><li>'s'</li><li>'vector'</li><li>'w'</li><li>'x'</li><li>'y'</li><li>'z'</li></ol>\n"
            ]
          },
          "metadata": {
            "tags": []
          }
        }
      ]
    }
  ]
}